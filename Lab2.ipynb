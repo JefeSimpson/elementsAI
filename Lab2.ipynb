{
  "nbformat": 4,
  "nbformat_minor": 0,
  "metadata": {
    "colab": {
      "provenance": [],
      "authorship_tag": "ABX9TyOEZ8bkCN+jmdZhQZ6h5EX5",
      "include_colab_link": true
    },
    "kernelspec": {
      "name": "python3",
      "display_name": "Python 3"
    },
    "language_info": {
      "name": "python"
    }
  },
  "cells": [
    {
      "cell_type": "markdown",
      "metadata": {
        "id": "view-in-github",
        "colab_type": "text"
      },
      "source": [
        "<a href=\"https://colab.research.google.com/github/JefeSimpson/elementsAI/blob/main/Lab2.ipynb\" target=\"_parent\"><img src=\"https://colab.research.google.com/assets/colab-badge.svg\" alt=\"Open In Colab\"/></a>"
      ]
    },
    {
      "cell_type": "code",
      "execution_count": 4,
      "metadata": {
        "colab": {
          "base_uri": "https://localhost:8080/"
        },
        "id": "GWqDr43DL7W7",
        "outputId": "801c13c0-90ac-48a7-e65a-b6b4f03cc173"
      },
      "outputs": [
        {
          "output_type": "stream",
          "name": "stdout",
          "text": [
            "1 \n",
            "1 2 \n",
            "1 2 3 \n",
            "1 2 3 4 \n",
            "1 2 3 4 5 \n"
          ]
        }
      ],
      "source": [
        "for i in range(1, 6):\n",
        "  for j in range(1, i + 1):\n",
        "    print(j, end = ' ')\n",
        "  print()"
      ]
    },
    {
      "cell_type": "code",
      "source": [
        "print('Example output:')\n",
        "num = int(input('Enter number '))\n",
        "sum = 0\n",
        "for i in range(num + 1):\n",
        "  sum += i\n",
        "print('Sum is:', sum)"
      ],
      "metadata": {
        "colab": {
          "base_uri": "https://localhost:8080/"
        },
        "id": "6a6WiJ8bNcV6",
        "outputId": "d09e5c4f-23b6-48af-e87e-16d485cb91cf"
      },
      "execution_count": 9,
      "outputs": [
        {
          "output_type": "stream",
          "name": "stdout",
          "text": [
            "Example output:\n",
            "Enter number 10\n",
            "Sum is: 55\n"
          ]
        }
      ]
    },
    {
      "cell_type": "code",
      "source": [
        "nums = list(map(int, input().split()))\n",
        "\n",
        "print('Expected output:')\n",
        "\n",
        "for i in nums:\n",
        "  if i > 500:\n",
        "    break\n",
        "  if i > 150:\n",
        "    continue\n",
        "  if i % 5 == 0:\n",
        "    print(i)"
      ],
      "metadata": {
        "colab": {
          "base_uri": "https://localhost:8080/"
        },
        "id": "QZ9gYzF-N-wl",
        "outputId": "a5a9b45d-32cd-4a85-abf4-3d5b29bea5f7"
      },
      "execution_count": 15,
      "outputs": [
        {
          "output_type": "stream",
          "name": "stdout",
          "text": [
            "12 75 180 145 525 50\n",
            "75\n",
            "145\n"
          ]
        }
      ]
    },
    {
      "cell_type": "code",
      "source": [
        "num = int(input('The number is '))\n",
        "cnt = 0\n",
        "while num > 0:\n",
        "   #print(num % 10)\n",
        "   num //= 10\n",
        "   cnt += 1\n",
        "print('Digits number is:', cnt)"
      ],
      "metadata": {
        "colab": {
          "base_uri": "https://localhost:8080/"
        },
        "id": "2FhHxf-7Pe7c",
        "outputId": "6a2fe748-fabf-4342-cc7c-751733a2c37e"
      },
      "execution_count": 23,
      "outputs": [
        {
          "output_type": "stream",
          "name": "stdout",
          "text": [
            "The number is 75869\n",
            "Digits number is: 5\n"
          ]
        }
      ]
    },
    {
      "cell_type": "code",
      "source": [
        "for i in range(5, 0, -1):\n",
        "  for j in range(i, 0, -1):\n",
        "    print(j, end = ' ')\n",
        "  print()"
      ],
      "metadata": {
        "colab": {
          "base_uri": "https://localhost:8080/"
        },
        "id": "ueOOqAtvRE-j",
        "outputId": "efc1fffe-5a68-445a-ab6f-c563ff83b391"
      },
      "execution_count": 26,
      "outputs": [
        {
          "output_type": "stream",
          "name": "stdout",
          "text": [
            "5 4 3 2 1 \n",
            "4 3 2 1 \n",
            "3 2 1 \n",
            "2 1 \n",
            "1 \n"
          ]
        }
      ]
    },
    {
      "cell_type": "code",
      "source": [
        "list1 = [10, 20, 30, 40, 50]\n",
        "for i in range(len(list1) - 1, -1, -1):\n",
        "  print(list1[i])"
      ],
      "metadata": {
        "colab": {
          "base_uri": "https://localhost:8080/"
        },
        "id": "lEwYoW0lR5gO",
        "outputId": "c2fae493-af4c-4131-8818-2eff28765b6b"
      },
      "execution_count": 29,
      "outputs": [
        {
          "output_type": "stream",
          "name": "stdout",
          "text": [
            "50\n",
            "40\n",
            "30\n",
            "20\n",
            "10\n"
          ]
        }
      ]
    },
    {
      "cell_type": "code",
      "source": [
        "for i in range(-10, 0):\n",
        "  print(i)"
      ],
      "metadata": {
        "colab": {
          "base_uri": "https://localhost:8080/"
        },
        "id": "EPUH98TtSTrL",
        "outputId": "81ff206e-1154-4080-bd97-466a87c24878"
      },
      "execution_count": 30,
      "outputs": [
        {
          "output_type": "stream",
          "name": "stdout",
          "text": [
            "-10\n",
            "-9\n",
            "-8\n",
            "-7\n",
            "-6\n",
            "-5\n",
            "-4\n",
            "-3\n",
            "-2\n",
            "-1\n"
          ]
        }
      ]
    },
    {
      "cell_type": "code",
      "source": [
        "my_list = [10, 20, 30, 40, 50, 60, 70, 80, 90, 100]\n",
        "for i in range(len(my_list)):\n",
        "  if (i + 1) % 2 != 0:\n",
        "    print(my_list[i], end = ' ')"
      ],
      "metadata": {
        "colab": {
          "base_uri": "https://localhost:8080/"
        },
        "id": "n94pdJT_SZxu",
        "outputId": "f54d4e75-8e9f-4be8-8898-670d209b8690"
      },
      "execution_count": 34,
      "outputs": [
        {
          "output_type": "stream",
          "name": "stdout",
          "text": [
            "10 30 50 70 90 "
          ]
        }
      ]
    },
    {
      "cell_type": "code",
      "source": [
        "import numpy\n",
        "sampleArray = numpy.array([[34, 43, 73], [82, 22, 12], [53, 94, 66]])\n",
        "print('Printing Original Array')\n",
        "print(sampleArray)\n",
        "\n",
        "sorted_by_row = sampleArray[:, sampleArray[1, :].argsort()]\n",
        "print('\\nSorting Original array by second row')\n",
        "print(sorted_by_row)\n",
        "\n",
        "sorted_by_column = sampleArray[sampleArray[:, 1].argsort()]\n",
        "print('\\nSorting Original array by second column')\n",
        "print(sorted_by_column)"
      ],
      "metadata": {
        "colab": {
          "base_uri": "https://localhost:8080/"
        },
        "id": "_xFTdUVHTI-Z",
        "outputId": "a75a436c-4a80-4323-887f-542df4d84d63"
      },
      "execution_count": 42,
      "outputs": [
        {
          "output_type": "stream",
          "name": "stdout",
          "text": [
            "Printing Original Array\n",
            "[[34 43 73]\n",
            " [82 22 12]\n",
            " [53 94 66]]\n",
            "\n",
            "Sorting Original array by second row\n",
            "[[73 43 34]\n",
            " [12 22 82]\n",
            " [66 94 53]]\n",
            "\n",
            "Sorting Original array by second column\n",
            "[[82 22 12]\n",
            " [34 43 73]\n",
            " [53 94 66]]\n"
          ]
        }
      ]
    },
    {
      "cell_type": "code",
      "source": [
        "import numpy\n",
        "sampleArray = numpy.array([[34,43,73],[82,22,12],[53,94,66]])\n",
        "newColumn = numpy.array([[10,10,10]])\n",
        "print('Printing Original Array')\n",
        "print(sampleArray)\n",
        "\n",
        "print('\\nArray after deleting column 2')\n",
        "sampleArray = numpy.delete(sampleArray, 1, axis = 1)\n",
        "print(sampleArray)\n",
        "\n",
        "print('\\nArray after inserting column 2')\n",
        "sampleArray = numpy.insert(sampleArray, 1, newColumn, axis =1)\n",
        "print(sampleArray)\n",
        "\n"
      ],
      "metadata": {
        "colab": {
          "base_uri": "https://localhost:8080/"
        },
        "id": "82GV9N-sV4kZ",
        "outputId": "4fc4ad8a-fe71-4b3c-b24c-0ae2dccea924"
      },
      "execution_count": 52,
      "outputs": [
        {
          "output_type": "stream",
          "name": "stdout",
          "text": [
            "Printing Original Array\n",
            "[[34 43 73]\n",
            " [82 22 12]\n",
            " [53 94 66]]\n",
            "\n",
            "Array after deleting column 2\n",
            "[[34 73]\n",
            " [82 12]\n",
            " [53 66]]\n",
            "\n",
            "Array after inserting column 2\n",
            "[[34 10 73]\n",
            " [82 10 12]\n",
            " [53 10 66]]\n"
          ]
        }
      ]
    },
    {
      "cell_type": "code",
      "source": [
        "import random\n",
        "import string\n",
        "\n",
        "res = ''.join(random.choice(string.ascii_letters) for i in range(5))\n",
        "print(res)"
      ],
      "metadata": {
        "colab": {
          "base_uri": "https://localhost:8080/"
        },
        "id": "eYzaURCfacSw",
        "outputId": "b973e349-f797-43bd-f371-7044073bc7a3"
      },
      "execution_count": 56,
      "outputs": [
        {
          "output_type": "stream",
          "name": "stdout",
          "text": [
            "sAOSu\n"
          ]
        }
      ]
    },
    {
      "cell_type": "code",
      "source": [
        "import random\n",
        "import string\n",
        "\n",
        "password = random.choices(string.ascii_uppercase, k = 2)\n",
        "password += random.choice(string.digits)\n",
        "password += random.choice(string.punctuation)\n",
        "\n",
        "for i in range(6):\n",
        "  password += random.choice(string.ascii_uppercase + string.ascii_lowercase)\n",
        "\n",
        "res = ''.join(password)\n",
        "print(res)"
      ],
      "metadata": {
        "colab": {
          "base_uri": "https://localhost:8080/"
        },
        "id": "xv0Zh2hAb0oO",
        "outputId": "5b7e50c8-e02e-48ca-ddc0-40b2c0032770"
      },
      "execution_count": 59,
      "outputs": [
        {
          "output_type": "stream",
          "name": "stdout",
          "text": [
            "NO5'KVSECr\n"
          ]
        }
      ]
    }
  ]
}